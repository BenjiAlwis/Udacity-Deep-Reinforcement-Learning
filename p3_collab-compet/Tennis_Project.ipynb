{
 "cells": [
  {
   "cell_type": "markdown",
   "metadata": {},
   "source": [
    "# Project 3 : Tennis (Multi-Agents)"
   ]
  },
  {
   "cell_type": "markdown",
   "metadata": {},
   "source": [
    "## Prepare the environment"
   ]
  },
  {
   "cell_type": "markdown",
   "metadata": {},
   "source": [
    "If necessary, uncomment and execute the following commands to install the Python requirements for this project"
   ]
  },
  {
   "cell_type": "code",
   "execution_count": 1,
   "metadata": {},
   "outputs": [],
   "source": [
    "#!pip -q install ../python\n",
    "#!pip install --no-deps unityagents"
   ]
  },
  {
   "cell_type": "markdown",
   "metadata": {},
   "source": [
    "Load the Unity environment. Environments contain **_brains_** which are responsible for deciding the actions of their associated agents. Here we check for the first brain available, and set it as the default brain we will be controlling from Python."
   ]
  },
  {
   "cell_type": "code",
   "execution_count": 2,
   "metadata": {},
   "outputs": [
    {
     "name": "stderr",
     "output_type": "stream",
     "text": [
      "INFO:unityagents:\n",
      "'Academy' started successfully!\n",
      "Unity Academy name: Academy\n",
      "        Number of Brains: 1\n",
      "        Number of External Brains : 1\n",
      "        Lesson number : 0\n",
      "        Reset Parameters :\n",
      "\t\t\n",
      "Unity brain name: TennisBrain\n",
      "        Number of Visual Observations (per agent): 0\n",
      "        Vector Observation space type: continuous\n",
      "        Vector Observation space size (per agent): 8\n",
      "        Number of stacked Vector Observation: 3\n",
      "        Vector Action space type: continuous\n",
      "        Vector Action space size (per agent): 2\n",
      "        Vector Action descriptions: , \n"
     ]
    }
   ],
   "source": [
    "from unityagents import UnityEnvironment\n",
    "import numpy as np\n",
    "\n",
    "# Load a single agent of the environment\n",
    "env = UnityEnvironment(file_name=\"./Tennis_Linux_NoVis/Tennis.x86_64\")\n",
    "\n",
    "# Get the default brain\n",
    "brain_name = env.brain_names[0]\n",
    "brain = env.brains[brain_name]"
   ]
  },
  {
   "cell_type": "code",
   "execution_count": 3,
   "metadata": {},
   "outputs": [],
   "source": [
    "# Imports\n",
    "import random\n",
    "import torch\n",
    "\n",
    "import os\n",
    "import numpy as np\n",
    "from collections import deque\n",
    "import time\n",
    "import matplotlib.pyplot as plt\n",
    "\n",
    "# Set plotting options\n",
    "%matplotlib inline\n",
    "plt.style.use('ggplot')\n",
    "np.set_printoptions(precision=3, linewidth=120)\n",
    "\n",
    "# Hide Matplotlib deprecate warnings\n",
    "import warnings\n",
    "warnings.filterwarnings(\"ignore\")\n",
    "\n",
    "# High resolution plot outputs for retina display\n",
    "%config InlineBackend.figure_format = 'retina'\n",
    " "
   ]
  },
  {
   "cell_type": "code",
   "execution_count": 4,
   "metadata": {},
   "outputs": [],
   "source": [
    "# Path to save the mdoels and collect the Tensorboard logs\n",
    "model_dir= os.getcwd()+\"/results\"\n",
    "os.makedirs(model_dir, exist_ok=True)"
   ]
  },
  {
   "cell_type": "markdown",
   "metadata": {},
   "source": [
    "## Instantiate the Unity environment and the Agent"
   ]
  },
  {
   "cell_type": "code",
   "execution_count": 5,
   "metadata": {},
   "outputs": [
    {
     "name": "stdout",
     "output_type": "stream",
     "text": [
      "There are 2 agents. Each observes a state with length: 24 and act within an action space of length: 2\n"
     ]
    }
   ],
   "source": [
    "# Reset the environment    \n",
    "env_info = env.reset(train_mode=True)[brain_name]     \n",
    "\n",
    "# number of agents\n",
    "num_agents = len(env_info.agents)\n",
    "\n",
    "# size of each action\n",
    "ENV_ACTION_SIZE = brain.vector_action_space_size\n",
    "\n",
    "# size of the state space \n",
    "states = env_info.vector_observations  # Array of states for all agents in teh enviroonments\n",
    "ENV_STATE_SIZE = states.shape[1]\n",
    "\n",
    "print('There are {} agents. Each observes a state with length: {} and act within an action space of length: {}'.format(states.shape[0], \n",
    "                                                                                                                       ENV_STATE_SIZE, \n",
    "                                                                                                                       ENV_ACTION_SIZE))"
   ]
  },
  {
   "cell_type": "markdown",
   "metadata": {},
   "source": [
    "### Take Random Actions in the Environment"
   ]
  },
  {
   "cell_type": "code",
   "execution_count": 6,
   "metadata": {},
   "outputs": [
    {
     "name": "stdout",
     "output_type": "stream",
     "text": [
      "Score (max over agents) from episode 1: 0.0\n",
      "Score (max over agents) from episode 2: 0.09000000171363354\n",
      "Score (max over agents) from episode 3: 0.10000000149011612\n",
      "Score (max over agents) from episode 4: 0.0\n",
      "Score (max over agents) from episode 5: 0.0\n"
     ]
    }
   ],
   "source": [
    "def random_agents():    \n",
    "    for i_episode in range(1, 6):                              # play game for 5 episodes\n",
    "        env_info = env.reset(train_mode=False)[brain_name]     # reset the environment\n",
    "        states = env_info.vector_observations                  # get the current state (for each agent)\n",
    "        scores = np.zeros(num_agents)                          # initialize the score (for each agent)\n",
    "        t=0                                                    # Initialize a counter for the nb of steps performed\n",
    "\n",
    "        while True:\n",
    "            t+=1\n",
    "            actions = np.random.randn(num_agents, ENV_ACTION_SIZE) # select an action (for each agent)\n",
    "            actions = np.clip(actions, -1, 1)                      # all actions between -1 and 1         \n",
    "            env_info = env.step(actions)[brain_name]               # send all actions to tne environment\n",
    "            next_states = env_info.vector_observations             # get next state (for each agent)\n",
    "            rewards = env_info.rewards                             # get reward (for each agent)\n",
    "            dones = env_info.local_done                            # see if episode finished\n",
    "\n",
    "            scores += env_info.rewards                         # update the score (for each agent)\n",
    "            states = next_states                               # roll over states to next time step\n",
    "            if np.any(dones):                                  # exit loop if episode finished\n",
    "                #print(\"   ** Debug: episode= {} steps={} rewards={} dones={}\".format(i_episode, t,rewards,dones))\n",
    "                break\n",
    "        print('Score (max over agents) from episode {}: {}'.format(i_episode, np.max(scores)))\n",
    "\n",
    "random_agents()"
   ]
  },
  {
   "cell_type": "markdown",
   "metadata": {},
   "source": [
    "### Train the Agent with MADDPG (Multi Agent Deep Deterministic Policy Gradient)"
   ]
  },
  {
   "cell_type": "code",
   "execution_count": 7,
   "metadata": {},
   "outputs": [],
   "source": [
    "# Helper function to plot the scores\n",
    "def plot_training(scores):\n",
    "    # Plot the Score evolution during the training\n",
    "    fig = plt.figure()\n",
    "    ax = fig.add_subplot(111)\n",
    "    ax.tick_params(axis='x', colors='deepskyblue')\n",
    "    ax.tick_params(axis='y', colors='deepskyblue')\n",
    "    plt.plot(np.arange(1, len(scores)+1), scores, color='deepskyblue')\n",
    "    plt.ylabel('Score', color='deepskyblue')\n",
    "    plt.xlabel('Episode #', color='deepskyblue')\n",
    "    plt.show()\n",
    "    "
   ]
  },
  {
   "cell_type": "code",
   "execution_count": 8,
   "metadata": {},
   "outputs": [],
   "source": [
    "from maddpg_agents import Maddpg\n",
    "from mdata import *\n",
    "\n",
    "def train():\n",
    "    \n",
    "    # Seeding\n",
    "    np.random.seed(SEED)\n",
    "    torch.manual_seed(SEED)\n",
    "\n",
    "    # Instantiate the MADDPG agents\n",
    "    maddpg = Maddpg(ENV_STATE_SIZE, ENV_ACTION_SIZE, num_agents, SEED)\n",
    "\n",
    "    # Monitor the score    \n",
    "    scores_deque = deque(maxlen=100)\n",
    "    all_scores = []\n",
    "    all_avg_score = []\n",
    "    \n",
    "    \n",
    "    # Intialize amplitude OU noise (will decay during training)\n",
    "    noise = NOISE\n",
    "    \n",
    "    all_steps =0   # Monitor total number of steps performed\n",
    "    \n",
    "    # Training Loop\n",
    "    for i_episode in range(NB_EPISODES+1):  \n",
    "             \n",
    "        env_info = env.reset(train_mode=True)[brain_name]          # reset the environment  \n",
    "        maddpg.reset()                                             # reset the agents \n",
    "            \n",
    "        states = env_info.vector_observations                      # get the current state for each agent \n",
    "        scores = np.zeros(num_agents)                              # initialize the score (for each agent)\n",
    "\n",
    "        for steps in range(NB_STEPS):\n",
    "            \n",
    "            all_steps+=1\n",
    "\n",
    "            actions = maddpg.act(states, noise)                    # retrieve actions to performe for each agents \n",
    "            noise *= NOISE_REDUCTION                               # Decrease action noise\n",
    "            env_info = env.step(actions)[brain_name]               # send all actions to tne environment\n",
    "            next_states = env_info.vector_observations             # get next state for each agent\n",
    "            rewards = env_info.rewards                             # get reward (for each agent)\n",
    "            dones = env_info.local_done                            # see if episode finished\n",
    "            \n",
    "            # Save experience in replay memory, and use random sample from buffer to learn\n",
    "            maddpg.step(states, actions, rewards, next_states, dones, i_episode)  \n",
    "\n",
    "            scores += env_info.rewards                             # update the score (for each agent)\n",
    "            states = next_states                                   # roll over states to next time step\n",
    "            if np.any(dones):                                      # exit loop if episode finished\n",
    "                #print(\"   ** Debug: episode= {} steps={} rewards={} dones={}\".format(i_episode, steps,rewards,dones))\n",
    "                break\n",
    "        \n",
    "        # Save scores and compute average score over last 100 episodes       \n",
    "        episode_score  = np.max(scores)  # Consider the maximum score amongs all Agents\n",
    "        all_scores.append(episode_score)\n",
    "        scores_deque.append(episode_score)\n",
    "        avg_score = np.mean(scores_deque)\n",
    "\n",
    "        # Display statistics \n",
    "        print('\\rEpisode {}\\tAverage Score: {:.2f}\\tEpisode score (max over agents): {:.2f}'.format(i_episode, avg_score, episode_score), end=\"\")\n",
    "        if i_episode>0 and i_episode % 100 == 0:\n",
    "            print('\\rEpisode {}\\tAverage Score: {:.2f} (nb of total steps={}   noise={:.4f})'.format(i_episode, avg_score, all_steps, noise))\n",
    "            maddpg.checkpoints()\n",
    "            all_avg_score.append(avg_score)\n",
    "        \n",
    "        # Early stop\n",
    "        if (i_episode > 99) and (avg_score >=0.5):\n",
    "            print('\\rEnvironment solved in {} episodes with an Average Score of {:.2f}'.format(i_episode, avg_score))\n",
    "            maddpg.checkpoints()\n",
    "            return all_scores\n",
    "\n",
    "    return all_scores\n",
    "\n"
   ]
  },
  {
   "cell_type": "code",
   "execution_count": 9,
   "metadata": {},
   "outputs": [
    {
     "name": "stdout",
     "output_type": "stream",
     "text": [
      "Episode 100\tAverage Score: 0.01 (nb of total steps=1630   noise=1.0000)\n",
      "Episode 200\tAverage Score: 0.00 (nb of total steps=3164   noise=1.0000)\n",
      "Episode 300\tAverage Score: 0.01 (nb of total steps=4729   noise=1.0000)\n",
      "Episode 400\tAverage Score: 0.00 (nb of total steps=6207   noise=1.0000)\n",
      "Episode 500\tAverage Score: 0.00 (nb of total steps=7626   noise=1.0000)\n",
      "Episode 600\tAverage Score: 0.00 (nb of total steps=9049   noise=1.0000)\n",
      "Episode 700\tAverage Score: 0.01 (nb of total steps=10562   noise=1.0000)\n",
      "Episode 800\tAverage Score: 0.02 (nb of total steps=12422   noise=1.0000)\n",
      "Episode 900\tAverage Score: 0.02 (nb of total steps=14160   noise=1.0000)\n",
      "Episode 1000\tAverage Score: 0.02 (nb of total steps=16119   noise=1.0000)\n",
      "Episode 1100\tAverage Score: 0.03 (nb of total steps=18212   noise=1.0000)\n",
      "Episode 1200\tAverage Score: 0.05 (nb of total steps=20713   noise=1.0000)\n",
      "Episode 1300\tAverage Score: 0.07 (nb of total steps=23771   noise=1.0000)\n",
      "Episode 1400\tAverage Score: 0.08 (nb of total steps=26889   noise=1.0000)\n",
      "Episode 1500\tAverage Score: 0.08 (nb of total steps=30370   noise=1.0000)\n",
      "Episode 1600\tAverage Score: 0.06 (nb of total steps=33723   noise=1.0000)\n",
      "Episode 1700\tAverage Score: 0.06 (nb of total steps=36775   noise=1.0000)\n",
      "Episode 1800\tAverage Score: 0.06 (nb of total steps=39768   noise=1.0000)\n",
      "Episode 1900\tAverage Score: 0.07 (nb of total steps=42842   noise=1.0000)\n",
      "Episode 2000\tAverage Score: 0.09 (nb of total steps=46204   noise=1.0000)\n",
      "Episode 2100\tAverage Score: 0.09 (nb of total steps=49694   noise=1.0000)\n",
      "Episode 2200\tAverage Score: 0.08 (nb of total steps=52987   noise=1.0000)\n",
      "Episode 2300\tAverage Score: 0.08 (nb of total steps=56254   noise=1.0000)\n",
      "Episode 2400\tAverage Score: 0.10 (nb of total steps=59956   noise=1.0000)\n",
      "Episode 2500\tAverage Score: 0.10 (nb of total steps=64087   noise=1.0000)\n",
      "Episode 2600\tAverage Score: 0.10 (nb of total steps=68452   noise=1.0000)\n",
      "Episode 2700\tAverage Score: 0.11 (nb of total steps=72895   noise=1.0000)\n",
      "Episode 2800\tAverage Score: 0.13 (nb of total steps=78331   noise=1.0000)\n",
      "Episode 2900\tAverage Score: 0.13 (nb of total steps=83584   noise=1.0000)\n",
      "Episode 3000\tAverage Score: 0.10 (nb of total steps=87789   noise=1.0000)\n",
      "Episode 3100\tAverage Score: 0.10 (nb of total steps=91892   noise=1.0000)\n",
      "Episode 3200\tAverage Score: 0.14 (nb of total steps=97554   noise=1.0000)\n",
      "Episode 3300\tAverage Score: 0.20 (nb of total steps=105813   noise=1.0000)\n",
      "Episode 3400\tAverage Score: 0.25 (nb of total steps=115866   noise=1.0000)\n",
      "Episode 3500\tAverage Score: 0.30 (nb of total steps=127777   noise=1.0000)\n",
      "Episode 3600\tAverage Score: 0.33 (nb of total steps=141106   noise=1.0000)\n",
      "Episode 3700\tAverage Score: 0.35 (nb of total steps=155091   noise=1.0000)\n",
      "Episode 3800\tAverage Score: 0.24 (nb of total steps=164884   noise=1.0000)\n",
      "Episode 3900\tAverage Score: 0.24 (nb of total steps=174600   noise=1.0000)\n",
      "Episode 4000\tAverage Score: 0.25 (nb of total steps=184990   noise=1.0000)\n",
      "Episode 4100\tAverage Score: 0.27 (nb of total steps=196128   noise=1.0000)\n",
      "Episode 4200\tAverage Score: 0.30 (nb of total steps=208364   noise=1.0000)\n",
      "Episode 4300\tAverage Score: 0.28 (nb of total steps=219925   noise=1.0000)\n",
      "Episode 4400\tAverage Score: 0.24 (nb of total steps=230139   noise=1.0000)\n",
      "Episode 4500\tAverage Score: 0.26 (nb of total steps=240674   noise=1.0000)\n",
      "Episode 4600\tAverage Score: 0.28 (nb of total steps=252759   noise=1.0000)\n",
      "Episode 4700\tAverage Score: 0.31 (nb of total steps=265621   noise=1.0000)\n",
      "Episode 4800\tAverage Score: 0.36 (nb of total steps=280009   noise=1.0000)\n",
      "Episode 4900\tAverage Score: 0.27 (nb of total steps=291048   noise=1.0000)\n",
      "Episode 5000\tAverage Score: 0.32 (nb of total steps=304172   noise=1.0000)\n",
      "Episode 5100\tAverage Score: 0.37 (nb of total steps=319085   noise=1.0000)\n",
      "Episode 5200\tAverage Score: 0.39 (nb of total steps=334700   noise=1.0000)\n",
      "Episode 5300\tAverage Score: 0.41 (nb of total steps=351139   noise=1.0000)\n",
      "Environment solved in 5347 episodes with an Average Score of 0.50 2.60\n"
     ]
    },
    {
     "data": {
      "image/png": "[encoded data removed]",
      "text/plain": [
       "<Figure size 432x288 with 1 Axes>"
      ]
     },
     "metadata": {
      "image/png": {
       "height": 264,
       "width": 388
      }
     },
     "output_type": "display_data"
    }
   ],
   "source": [
    "# Launch training\n",
    "scores = train()\n",
    "plot_training(scores)"
   ]
  },
  {
   "cell_type": "code",
   "execution_count": 10,
   "metadata": {},
   "outputs": [],
   "source": [
    "env.close()"
   ]
  }
 ],
 "metadata": {
  "kernelspec": {
   "display_name": "Python 3",
   "language": "python",
   "name": "python3"
  },
  "language_info": {
   "codemirror_mode": {
    "name": "ipython",
    "version": 3
   },
   "file_extension": ".py",
   "mimetype": "text/x-python",
   "name": "python",
   "nbconvert_exporter": "python",
   "pygments_lexer": "ipython3",
   "version": "3.6.10"
  }
 },
 "nbformat": 4,
 "nbformat_minor": 2
}
