{
 "cells": [
  {
   "cell_type": "markdown",
   "metadata": {},
   "source": [
    "# Project 3 : Multi-Agent Tennis"
   ]
  },
  {
   "cell_type": "markdown",
   "metadata": {},
   "source": [
    "## Load the environment"
   ]
  },
  {
   "cell_type": "markdown",
   "metadata": {},
   "source": [
    "Load the Unity environment. Environments contain **_brains_** which are responsible for deciding the actions of their associated agents. Here we check for the first brain available, and set it as the default brain we will be controlling from Python."
   ]
  },
  {
   "cell_type": "code",
   "execution_count": 1,
   "metadata": {},
   "outputs": [
    {
     "name": "stderr",
     "output_type": "stream",
     "text": [
      "INFO:unityagents:\n",
      "'Academy' started successfully!\n",
      "Unity Academy name: Academy\n",
      "        Number of Brains: 1\n",
      "        Number of External Brains : 1\n",
      "        Lesson number : 0\n",
      "        Reset Parameters :\n",
      "\t\t\n",
      "Unity brain name: TennisBrain\n",
      "        Number of Visual Observations (per agent): 0\n",
      "        Vector Observation space type: continuous\n",
      "        Vector Observation space size (per agent): 8\n",
      "        Number of stacked Vector Observation: 3\n",
      "        Vector Action space type: continuous\n",
      "        Vector Action space size (per agent): 2\n",
      "        Vector Action descriptions: , \n"
     ]
    }
   ],
   "source": [
    "from unityagents import UnityEnvironment\n",
    "import numpy as np\n",
    "\n",
    "# Load unity environment\n",
    "env = UnityEnvironment(file_name=\"./Tennis_Linux_NoVis/Tennis.x86_64\")\n",
    "\n",
    "# Get the default brain\n",
    "brain_name = env.brain_names[0]\n",
    "brain = env.brains[brain_name]"
   ]
  },
  {
   "cell_type": "markdown",
   "metadata": {},
   "source": [
    "## Start the Environment"
   ]
  },
  {
   "cell_type": "code",
   "execution_count": 2,
   "metadata": {},
   "outputs": [],
   "source": [
    "# Reset the environment    \n",
    "env_info = env.reset(train_mode=True)[brain_name]     \n",
    "\n",
    "# number of agents\n",
    "num_agents = len(env_info.agents)\n",
    "\n",
    "# size of each action\n",
    "action_sz = brain.vector_action_space_size\n",
    "\n",
    "# size of the state space \n",
    "states = env_info.vector_observations  \n",
    "state_sz = states.shape[1]\n"
   ]
  },
  {
   "cell_type": "markdown",
   "metadata": {},
   "source": [
    "### Train the set of agents using the Multi-Agent DDPG"
   ]
  },
  {
   "cell_type": "code",
   "execution_count": 3,
   "metadata": {
    "scrolled": false
   },
   "outputs": [],
   "source": [
    "import random\n",
    "import torch\n",
    "import numpy as np\n",
    "import matplotlib.pyplot as plt\n",
    "from multi_agent import MultiAgent\n",
    "\n",
    "\n",
    "max_episodes = 10000                \n",
    "maxm_steps = 1000                    \n",
    "\n",
    "\n",
    "def train():\n",
    " mul_agent = MultiAgent(state_sz, action_sz, num_agents)\n",
    " score_list = []\n",
    " for ep_num in range(1,max_episodes+1):\n",
    "  current_val = np.zeros(num_agents)  \n",
    "  environment_info = env.reset(train_mode=True)[brain_name]\n",
    "  current_states = environment_info.vector_observations\n",
    "  for steps in range(1,maxm_steps+1):\n",
    "   actions = mul_agent.act(current_states)             \n",
    "   environment_info = env.step(actions)[brain_name]\n",
    "   next_states = environment_info.vector_observations\n",
    "   done = environment_info.local_done\n",
    "   rewards = environment_info.rewards\n",
    "   current_val += rewards\n",
    "   mul_agent.step(current_states, actions, rewards, next_states, done)\n",
    "   current_states = next_states\n",
    "   if np.any(environment_info.local_done,axis=0):\n",
    "    break\n",
    "\n",
    "  score_list.append(np.max(current_val))    \n",
    "  if ep_num % 100 == 0:\n",
    "   mul_agent.save()     \n",
    "   print('Episode {} Average Score: {:.2f} '.format(ep_num, np.mean(score_list[-100:])))\n",
    "  if np.mean(score_list[-100:]) >=0.5:\n",
    "   mul_agent.save()\n",
    "   print('Task completed in {} episodes - Concluded with Average Score  {:.2f}'.format(ep_num, np.mean(score_list[-100:])))\n",
    "   break\n",
    "    \n",
    " plt.plot(np.arange(1, len(score_list)+1), score_list)\n",
    " plt.xlabel('number of episodes')\n",
    " plt.ylabel('score value')\n",
    " plt.show()\n",
    " \n",
    " \n",
    "\n"
   ]
  },
  {
   "cell_type": "code",
   "execution_count": 4,
   "metadata": {
    "scrolled": true
   },
   "outputs": [
    {
     "name": "stdout",
     "output_type": "stream",
     "text": [
      "Episode 100 Average Score: 0.00 \n",
      "Episode 200 Average Score: 0.00 \n",
      "Episode 300 Average Score: 0.01 \n",
      "Episode 400 Average Score: 0.00 \n",
      "Episode 500 Average Score: 0.00 \n",
      "Episode 600 Average Score: 0.01 \n",
      "Episode 700 Average Score: 0.01 \n",
      "Episode 800 Average Score: 0.01 \n",
      "Episode 900 Average Score: 0.01 \n",
      "Episode 1000 Average Score: 0.01 \n",
      "Episode 1100 Average Score: 0.01 \n",
      "Episode 1200 Average Score: 0.02 \n",
      "Episode 1300 Average Score: 0.04 \n",
      "Episode 1400 Average Score: 0.05 \n",
      "Episode 1500 Average Score: 0.04 \n",
      "Episode 1600 Average Score: 0.04 \n",
      "Episode 1700 Average Score: 0.04 \n",
      "Episode 1800 Average Score: 0.03 \n",
      "Episode 1900 Average Score: 0.03 \n",
      "Episode 2000 Average Score: 0.04 \n",
      "Episode 2100 Average Score: 0.06 \n",
      "Episode 2200 Average Score: 0.08 \n",
      "Episode 2300 Average Score: 0.08 \n",
      "Episode 2400 Average Score: 0.08 \n",
      "Episode 2500 Average Score: 0.09 \n",
      "Episode 2600 Average Score: 0.16 \n",
      "Episode 2700 Average Score: 0.15 \n",
      "Task completed in 2796 episodes - Concluded with Average Score  0.50\n"
     ]
    },
    {
     "data": {
      "image/png": "[encoded data removed]",
      "text/plain": [
       "<Figure size 432x288 with 1 Axes>"
      ]
     },
     "metadata": {
      "needs_background": "light"
     },
     "output_type": "display_data"
    }
   ],
   "source": [
    "\n",
    "scores = train()\n"
   ]
  },
  {
   "cell_type": "code",
   "execution_count": 10,
   "metadata": {},
   "outputs": [],
   "source": [
    "env.close()"
   ]
  }
 ],
 "metadata": {
  "kernelspec": {
   "display_name": "Python 3",
   "language": "python",
   "name": "python3"
  },
  "language_info": {
   "codemirror_mode": {
    "name": "ipython",
    "version": 3
   },
   "file_extension": ".py",
   "mimetype": "text/x-python",
   "name": "python",
   "nbconvert_exporter": "python",
   "pygments_lexer": "ipython3",
   "version": "3.6.10"
  }
 },
 "nbformat": 4,
 "nbformat_minor": 2
}
